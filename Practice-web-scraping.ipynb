{
 "cells": [
  {
   "cell_type": "code",
   "execution_count": 1,
   "id": "b95ebb95-ccfa-4790-8a58-706ed27b8ac0",
   "metadata": {},
   "outputs": [],
   "source": [
    "from bs4 import BeautifulSoup\n",
    "import requests\n",
    "import pandas as pd\n",
    "import re"
   ]
  },
  {
   "cell_type": "markdown",
   "id": "a4db365a-b3ee-40af-baee-ac774c523f47",
   "metadata": {},
   "source": [
    "### Display the top 10 languages by number of native speakers stored in a pandas dataframe: url = 'https://en.wikipedia.org/wiki/List_of_languages_by_number_of_native_speakers'"
   ]
  },
  {
   "cell_type": "code",
   "execution_count": 2,
   "id": "5368c392-381f-4730-aa87-e73a3e7f6818",
   "metadata": {},
   "outputs": [],
   "source": [
    "url = 'https://en.wikipedia.org/wiki/List_of_languages_by_number_of_native_speakers'"
   ]
  },
  {
   "cell_type": "code",
   "execution_count": 3,
   "id": "433a5722-973c-4a46-8cb0-b7b6ddebf135",
   "metadata": {},
   "outputs": [
    {
     "data": {
      "text/plain": [
       "200"
      ]
     },
     "execution_count": 3,
     "metadata": {},
     "output_type": "execute_result"
    }
   ],
   "source": [
    "response = requests.get(url)\n",
    "response.status_code"
   ]
  },
  {
   "cell_type": "code",
   "execution_count": 4,
   "id": "6f2ba876-d8f6-4def-8ef1-22064939e598",
   "metadata": {},
   "outputs": [],
   "source": [
    "soup = BeautifulSoup(response.content, \"html.parser\")"
   ]
  },
  {
   "cell_type": "code",
   "execution_count": 5,
   "id": "5f6ba311-9972-46ab-b3e1-8b0368b7cb41",
   "metadata": {},
   "outputs": [],
   "source": [
    "#mw-content-text > div.mw-parser-output > table:nth-child(15) > tbody > tr:nth-child(1) > td:nth-child(3)"
   ]
  },
  {
   "cell_type": "code",
   "execution_count": 6,
   "id": "4a7039a6-bb8b-4596-851d-fafb88383ae8",
   "metadata": {},
   "outputs": [],
   "source": [
    "languages = []\n",
    "number = []\n",
    "for i in range(11):\n",
    "    languages = languages + soup.select(\"#mw-content-text > div.mw-parser-output > table:nth-child(15) > tbody > tr:nth-child(\" + str(i+1) + \") > td:nth-child(2)\")\n",
    "    number = number + soup.select(\"#mw-content-text > div.mw-parser-output > table:nth-child(15) > tbody > tr:nth-child(\" + str(i+1) + \") > td:nth-child(3)\")"
   ]
  },
  {
   "cell_type": "code",
   "execution_count": 7,
   "id": "f600ffe1-0b1a-43dc-a79b-20c14bc01ba4",
   "metadata": {},
   "outputs": [],
   "source": [
    "languages1 = []\n",
    "number1 = []\n",
    "for i in languages:\n",
    "    languages1.append(i.get_text())\n",
    "for i in number:   \n",
    "    number1.append(i.get_text())"
   ]
  },
  {
   "cell_type": "code",
   "execution_count": 8,
   "id": "1efd02a8-af1e-4d9b-81c2-1b84201ac294",
   "metadata": {},
   "outputs": [
    {
     "data": {
      "text/plain": [
       "['Mandarin Chinese\\n',\n",
       " 'Spanish\\n',\n",
       " 'English\\n',\n",
       " 'Hindi (sanskritised Hindustani)[9]\\n',\n",
       " 'Bengali\\n',\n",
       " 'Portuguese\\n',\n",
       " 'Russian\\n',\n",
       " 'Japanese\\n',\n",
       " 'Western Punjabi[10]\\n',\n",
       " 'Marathi\\n']"
      ]
     },
     "execution_count": 8,
     "metadata": {},
     "output_type": "execute_result"
    }
   ],
   "source": [
    "languages1"
   ]
  },
  {
   "cell_type": "code",
   "execution_count": 9,
   "id": "fdd03a9c-0a0b-4b95-a182-3c0a1cbb7773",
   "metadata": {},
   "outputs": [
    {
     "data": {
      "text/plain": [
       "['918\\n',\n",
       " '480\\n',\n",
       " '379\\n',\n",
       " '341\\n',\n",
       " '300\\n',\n",
       " '221\\n',\n",
       " '154\\n',\n",
       " '128\\n',\n",
       " '92.7\\n',\n",
       " '83.1\\n']"
      ]
     },
     "execution_count": 9,
     "metadata": {},
     "output_type": "execute_result"
    }
   ],
   "source": [
    "number1"
   ]
  },
  {
   "cell_type": "code",
   "execution_count": 10,
   "id": "e8a81d5c-bd62-4120-8c9d-2d34ca0979fd",
   "metadata": {},
   "outputs": [],
   "source": [
    "for i in range(10):\n",
    "    languages1[i] = languages1[i].replace('\\n','')\n",
    "    number1[i] = number1[i].replace('\\n','')"
   ]
  },
  {
   "cell_type": "code",
   "execution_count": 11,
   "id": "5fcf54ad-f9ca-43bb-9282-36cac0e28590",
   "metadata": {},
   "outputs": [
    {
     "data": {
      "text/html": [
       "<div>\n",
       "<style scoped>\n",
       "    .dataframe tbody tr th:only-of-type {\n",
       "        vertical-align: middle;\n",
       "    }\n",
       "\n",
       "    .dataframe tbody tr th {\n",
       "        vertical-align: top;\n",
       "    }\n",
       "\n",
       "    .dataframe thead th {\n",
       "        text-align: right;\n",
       "    }\n",
       "</style>\n",
       "<table border=\"1\" class=\"dataframe\">\n",
       "  <thead>\n",
       "    <tr style=\"text-align: right;\">\n",
       "      <th></th>\n",
       "      <th>language</th>\n",
       "      <th>million_of_speakers</th>\n",
       "    </tr>\n",
       "  </thead>\n",
       "  <tbody>\n",
       "    <tr>\n",
       "      <th>0</th>\n",
       "      <td>Mandarin Chinese</td>\n",
       "      <td>918</td>\n",
       "    </tr>\n",
       "    <tr>\n",
       "      <th>1</th>\n",
       "      <td>Spanish</td>\n",
       "      <td>480</td>\n",
       "    </tr>\n",
       "    <tr>\n",
       "      <th>2</th>\n",
       "      <td>English</td>\n",
       "      <td>379</td>\n",
       "    </tr>\n",
       "    <tr>\n",
       "      <th>3</th>\n",
       "      <td>Hindi (sanskritised Hindustani)[9]</td>\n",
       "      <td>341</td>\n",
       "    </tr>\n",
       "    <tr>\n",
       "      <th>4</th>\n",
       "      <td>Bengali</td>\n",
       "      <td>300</td>\n",
       "    </tr>\n",
       "    <tr>\n",
       "      <th>5</th>\n",
       "      <td>Portuguese</td>\n",
       "      <td>221</td>\n",
       "    </tr>\n",
       "    <tr>\n",
       "      <th>6</th>\n",
       "      <td>Russian</td>\n",
       "      <td>154</td>\n",
       "    </tr>\n",
       "    <tr>\n",
       "      <th>7</th>\n",
       "      <td>Japanese</td>\n",
       "      <td>128</td>\n",
       "    </tr>\n",
       "    <tr>\n",
       "      <th>8</th>\n",
       "      <td>Western Punjabi[10]</td>\n",
       "      <td>92.7</td>\n",
       "    </tr>\n",
       "    <tr>\n",
       "      <th>9</th>\n",
       "      <td>Marathi</td>\n",
       "      <td>83.1</td>\n",
       "    </tr>\n",
       "  </tbody>\n",
       "</table>\n",
       "</div>"
      ],
      "text/plain": [
       "                             language million_of_speakers\n",
       "0                    Mandarin Chinese                 918\n",
       "1                             Spanish                 480\n",
       "2                             English                 379\n",
       "3  Hindi (sanskritised Hindustani)[9]                 341\n",
       "4                             Bengali                 300\n",
       "5                          Portuguese                 221\n",
       "6                             Russian                 154\n",
       "7                            Japanese                 128\n",
       "8                 Western Punjabi[10]                92.7\n",
       "9                             Marathi                83.1"
      ]
     },
     "execution_count": 11,
     "metadata": {},
     "output_type": "execute_result"
    }
   ],
   "source": [
    "top_languages = pd.DataFrame({\"language\": languages1, \"million_of_speakers\": number1})\n",
    "top_languages"
   ]
  },
  {
   "cell_type": "markdown",
   "id": "a1da953e-2ea0-44d4-8631-2d865814da74",
   "metadata": {},
   "source": [
    "### Create a Python list with the top ten FBI's Most Wanted names: url = 'https://www.fbi.gov/wanted/topten'"
   ]
  },
  {
   "cell_type": "code",
   "execution_count": 12,
   "id": "f9c4159c-bf1d-4640-98f3-ed577eb0a3f5",
   "metadata": {},
   "outputs": [],
   "source": [
    "url = 'https://www.fbi.gov/wanted/topten'"
   ]
  },
  {
   "cell_type": "code",
   "execution_count": 13,
   "id": "ecb702d6-16e5-49b4-a9cc-2f1057ceb8f1",
   "metadata": {},
   "outputs": [
    {
     "data": {
      "text/plain": [
       "200"
      ]
     },
     "execution_count": 13,
     "metadata": {},
     "output_type": "execute_result"
    }
   ],
   "source": [
    "response = requests.get(url)\n",
    "response.status_code"
   ]
  },
  {
   "cell_type": "code",
   "execution_count": 14,
   "id": "a37a0aed-0fd9-4a9d-8587-76e42fafd854",
   "metadata": {},
   "outputs": [],
   "source": [
    "soup = BeautifulSoup(response.content, \"html.parser\")"
   ]
  },
  {
   "cell_type": "code",
   "execution_count": 15,
   "id": "8ec4c081-604c-4c3c-b214-295c03e99cb6",
   "metadata": {},
   "outputs": [],
   "source": [
    "#query-results-0f737222c5054a81a120bce207b0446a > ul > li:nth-child(1) > h3 > a\n",
    "#query-results-0f737222c5054a81a120bce207b0446a > ul > li:nth-child(2) > h3 > a"
   ]
  },
  {
   "cell_type": "code",
   "execution_count": 16,
   "id": "e9871aad-3b73-4207-bf60-107da07597d5",
   "metadata": {},
   "outputs": [
    {
     "data": {
      "text/plain": [
       "[<a href=\"https://www.fbi.gov/wanted/topten/rafael-caro-quintero\">RAFAEL CARO-QUINTERO</a>,\n",
       " <a href=\"https://www.fbi.gov/wanted/topten/yulan-adonay-archaga-carias\">YULAN ADONAY ARCHAGA CARIAS</a>,\n",
       " <a href=\"https://www.fbi.gov/wanted/topten/eugene-palmer\">EUGENE PALMER</a>,\n",
       " <a href=\"https://www.fbi.gov/wanted/topten/bhadreshkumar-chetanbhai-patel\">BHADRESHKUMAR CHETANBHAI PATEL</a>,\n",
       " <a href=\"https://www.fbi.gov/wanted/topten/alejandro-castillo\">ALEJANDRO ROSALES CASTILLO</a>,\n",
       " <a href=\"https://www.fbi.gov/wanted/topten/arnoldo-jimenez\">ARNOLDO JIMENEZ</a>,\n",
       " <a href=\"https://www.fbi.gov/wanted/topten/jason-derek-brown\">JASON DEREK BROWN</a>,\n",
       " <a href=\"https://www.fbi.gov/wanted/topten/alexis-flores\">ALEXIS FLORES</a>,\n",
       " <a href=\"https://www.fbi.gov/wanted/topten/jose-rodolfo-villarreal-hernandez\">JOSE RODOLFO VILLARREAL-HERNANDEZ</a>,\n",
       " <a href=\"https://www.fbi.gov/wanted/topten/octaviano-juarez-corro\">OCTAVIANO JUAREZ-CORRO</a>]"
      ]
     },
     "execution_count": 16,
     "metadata": {},
     "output_type": "execute_result"
    }
   ],
   "source": [
    "names = []\n",
    "for i in range(11):\n",
    "    names = names + soup.select(\"#query-results-0f737222c5054a81a120bce207b0446a > ul > li:nth-child(\" + str(i+1) + \") > h3 > a\")\n",
    "names"
   ]
  },
  {
   "cell_type": "code",
   "execution_count": 17,
   "id": "681d8e84-0896-4661-9ef6-7413f30dc9a6",
   "metadata": {},
   "outputs": [
    {
     "data": {
      "text/plain": [
       "['RAFAEL CARO-QUINTERO',\n",
       " 'YULAN ADONAY ARCHAGA CARIAS',\n",
       " 'EUGENE PALMER',\n",
       " 'BHADRESHKUMAR CHETANBHAI PATEL',\n",
       " 'ALEJANDRO ROSALES CASTILLO',\n",
       " 'ARNOLDO JIMENEZ',\n",
       " 'JASON DEREK BROWN',\n",
       " 'ALEXIS FLORES',\n",
       " 'JOSE RODOLFO VILLARREAL-HERNANDEZ',\n",
       " 'OCTAVIANO JUAREZ-CORRO']"
      ]
     },
     "execution_count": 17,
     "metadata": {},
     "output_type": "execute_result"
    }
   ],
   "source": [
    "names1 = []\n",
    "for i in names:\n",
    "    names1.append(i.get_text())\n",
    "names1"
   ]
  },
  {
   "cell_type": "code",
   "execution_count": 18,
   "id": "aa497f07-550e-42d1-816d-085b477de8f0",
   "metadata": {},
   "outputs": [],
   "source": [
    "# We have already had the list\n",
    "#most_wanted = pd.DataFrame({'name':names1})\n",
    "#most_wanted"
   ]
  },
  {
   "cell_type": "markdown",
   "id": "74a942ee-2738-4fc9-af5b-6c5312ac8759",
   "metadata": {},
   "source": [
    "### List all language names and number of related articles in the order they appear in wikipedia.org: url = 'https://www.wikipedia.org/'"
   ]
  },
  {
   "cell_type": "code",
   "execution_count": 19,
   "id": "dde850c7-33df-4483-8731-5159f01cd037",
   "metadata": {},
   "outputs": [],
   "source": [
    "url = 'https://www.wikipedia.org/'"
   ]
  },
  {
   "cell_type": "code",
   "execution_count": 20,
   "id": "25d2c251-5cfa-432d-865a-2ddf616b72d9",
   "metadata": {},
   "outputs": [
    {
     "data": {
      "text/plain": [
       "200"
      ]
     },
     "execution_count": 20,
     "metadata": {},
     "output_type": "execute_result"
    }
   ],
   "source": [
    "response = requests.get(url)\n",
    "response.status_code"
   ]
  },
  {
   "cell_type": "code",
   "execution_count": 21,
   "id": "72f2e24e-8892-4543-b109-64bd19a8124b",
   "metadata": {},
   "outputs": [],
   "source": [
    "soup = BeautifulSoup(response.content, \"html.parser\")"
   ]
  },
  {
   "cell_type": "code",
   "execution_count": 22,
   "id": "e10b3fab-b206-47bc-9f50-98d20bbba4b8",
   "metadata": {},
   "outputs": [
    {
     "data": {
      "text/plain": [
       "[<bdi dir=\"ltr\">6 383 000+</bdi>]"
      ]
     },
     "execution_count": 22,
     "metadata": {},
     "output_type": "execute_result"
    }
   ],
   "source": [
    "soup.select('#js-link-box-en > small > bdi')"
   ]
  },
  {
   "cell_type": "code",
   "execution_count": 23,
   "id": "fb46651e-b8f5-459d-b0f0-7d51605d401d",
   "metadata": {},
   "outputs": [
    {
     "data": {
      "text/plain": [
       "[<strong class=\"jsl10n localized-slogan\" data-jsl10n=\"portal.slogan\">The Free Encyclopedia</strong>,\n",
       " <strong>English</strong>,\n",
       " <strong>日本語</strong>,\n",
       " <strong>Русский</strong>,\n",
       " <strong>Deutsch</strong>,\n",
       " <strong>Español</strong>,\n",
       " <strong>Français</strong>,\n",
       " <strong>中文</strong>,\n",
       " <strong>Italiano</strong>,\n",
       " <strong>Português</strong>,\n",
       " <strong>Polski</strong>,\n",
       " <strong class=\"jsl10n\" data-jsl10n=\"portal.app-links.title\">\n",
       " <a class=\"jsl10n\" data-jsl10n=\"portal.app-links.url\" href=\"https://en.wikipedia.org/wiki/List_of_Wikipedia_mobile_applications\">\n",
       " Download Wikipedia for Android or iOS\n",
       " </a>\n",
       " </strong>]"
      ]
     },
     "execution_count": 23,
     "metadata": {},
     "output_type": "execute_result"
    }
   ],
   "source": [
    "soup.select(\"strong\")"
   ]
  },
  {
   "cell_type": "code",
   "execution_count": 24,
   "id": "2385cd63-d618-49e6-a07f-9ddcebc2fbcc",
   "metadata": {},
   "outputs": [
    {
     "data": {
      "text/plain": [
       "['English',\n",
       " '日本語',\n",
       " 'Русский',\n",
       " 'Deutsch',\n",
       " 'Español',\n",
       " 'Français',\n",
       " '中文',\n",
       " 'Italiano',\n",
       " 'Português',\n",
       " 'Polski']"
      ]
     },
     "execution_count": 24,
     "metadata": {},
     "output_type": "execute_result"
    }
   ],
   "source": [
    "languages = []\n",
    "for language in soup.select(\"strong\")[1:11]:\n",
    "    languages.append(language.get_text().strip())\n",
    "languages"
   ]
  },
  {
   "cell_type": "code",
   "execution_count": 25,
   "id": "1525a8eb-8a52-416e-8065-18c5b334cc4b",
   "metadata": {},
   "outputs": [
    {
     "data": {
      "text/plain": [
       "[[<div class=\"central-featured-lang lang1\" dir=\"ltr\" lang=\"en\">\n",
       "  <a class=\"link-box\" data-slogan=\"The Free Encyclopedia\" href=\"//en.wikipedia.org/\" id=\"js-link-box-en\" title=\"English — Wikipedia — The Free Encyclopedia\">\n",
       "  <strong>English</strong>\n",
       "  <small><bdi dir=\"ltr\">6 383 000+</bdi> <span>articles</span></small>\n",
       "  </a>\n",
       "  </div>],\n",
       " [<div class=\"central-featured-lang lang2\" dir=\"ltr\" lang=\"ja\">\n",
       "  <a class=\"link-box\" data-slogan=\"フリー百科事典\" href=\"//ja.wikipedia.org/\" id=\"js-link-box-ja\" title=\"Nihongo — ウィキペディア — フリー百科事典\">\n",
       "  <strong>日本語</strong>\n",
       "  <small><bdi dir=\"ltr\">1 292 000+</bdi> <span>記事</span></small>\n",
       "  </a>\n",
       "  </div>],\n",
       " [<div class=\"central-featured-lang lang3\" dir=\"ltr\" lang=\"ru\">\n",
       "  <a class=\"link-box\" data-slogan=\"Свободная энциклопедия\" href=\"//ru.wikipedia.org/\" id=\"js-link-box-ru\" title=\"Russkiy — Википедия — Свободная энциклопедия\">\n",
       "  <strong>Русский</strong>\n",
       "  <small><bdi dir=\"ltr\">1 756 000+</bdi> <span>статей</span></small>\n",
       "  </a>\n",
       "  </div>],\n",
       " [<div class=\"central-featured-lang lang4\" dir=\"ltr\" lang=\"de\">\n",
       "  <a class=\"link-box\" data-slogan=\"Die freie Enzyklopädie\" href=\"//de.wikipedia.org/\" id=\"js-link-box-de\" title=\"Deutsch — Wikipedia — Die freie Enzyklopädie\">\n",
       "  <strong>Deutsch</strong>\n",
       "  <small><bdi dir=\"ltr\">2 617 000+</bdi> <span>Artikel</span></small>\n",
       "  </a>\n",
       "  </div>],\n",
       " [<div class=\"central-featured-lang lang5\" dir=\"ltr\" lang=\"es\">\n",
       "  <a class=\"link-box\" data-slogan=\"La enciclopedia libre\" href=\"//es.wikipedia.org/\" id=\"js-link-box-es\" title=\"Español — Wikipedia — La enciclopedia libre\">\n",
       "  <strong>Español</strong>\n",
       "  <small><bdi dir=\"ltr\">1 717 000+</bdi> <span>artículos</span></small>\n",
       "  </a>\n",
       "  </div>],\n",
       " [<div class=\"central-featured-lang lang6\" dir=\"ltr\" lang=\"fr\">\n",
       "  <a class=\"link-box\" data-slogan=\"L’encyclopédie libre\" href=\"//fr.wikipedia.org/\" id=\"js-link-box-fr\" title=\"Français — Wikipédia — L’encyclopédie libre\">\n",
       "  <strong>Français</strong>\n",
       "  <small><bdi dir=\"ltr\">2 362 000+</bdi> <span>articles</span></small>\n",
       "  </a>\n",
       "  </div>],\n",
       " [<div class=\"central-featured-lang lang7\" dir=\"ltr\" lang=\"zh\">\n",
       "  <a class=\"link-box\" data-converttitle-hans=\"Zhōngwén — 维基百科 — 自由的百科全书\" data-slogan=\"自由的百科全書\" href=\"//zh.wikipedia.org/\" id=\"js-link-box-zh\" title=\"Zhōngwén — 維基百科 — 自由的百科全書\">\n",
       "  <strong>中文</strong>\n",
       "  <small><bdi dir=\"ltr\">1 231 000+</bdi> <span data-convert-hans=\"条目\" id=\"zh_art\">條目</span></small>\n",
       "  </a>\n",
       "  </div>],\n",
       " [<div class=\"central-featured-lang lang8\" dir=\"ltr\" lang=\"it\">\n",
       "  <a class=\"link-box\" data-slogan=\"L'enciclopedia libera\" href=\"//it.wikipedia.org/\" id=\"js-link-box-it\" title=\"Italiano — Wikipedia — L'enciclopedia libera\">\n",
       "  <strong>Italiano</strong>\n",
       "  <small><bdi dir=\"ltr\">1 718 000+</bdi> <span>voci</span></small>\n",
       "  </a>\n",
       "  </div>],\n",
       " [<div class=\"central-featured-lang lang9\" dir=\"ltr\" lang=\"pt\">\n",
       "  <a class=\"link-box\" data-slogan=\"A enciclopédia livre\" href=\"//pt.wikipedia.org/\" id=\"js-link-box-pt\" title=\"Português — Wikipédia — A enciclopédia livre\">\n",
       "  <strong>Português</strong>\n",
       "  <small><bdi dir=\"ltr\">1 074 000+</bdi> <span>artigos</span></small>\n",
       "  </a>\n",
       "  </div>],\n",
       " [<div class=\"central-featured-lang lang10\" dir=\"ltr\" lang=\"pl\">\n",
       "  <a class=\"link-box\" data-slogan=\"Wolna encyklopedia\" href=\"//pl.wikipedia.org/\" id=\"js-link-box-pl\" title=\"Polski — Wikipedia — Wolna encyklopedia\">\n",
       "  <strong>Polski</strong>\n",
       "  <small><bdi dir=\"ltr\">1 490 000+</bdi> <span>haseł</span></small>\n",
       "  </a>\n",
       "  </div>]]"
      ]
     },
     "execution_count": 25,
     "metadata": {},
     "output_type": "execute_result"
    }
   ],
   "source": [
    "lista = []\n",
    "for i in range(10):\n",
    "    linkk = '#www-wikipedia-org > div.central-featured > div.central-featured-lang.lang' + str(1+i)\n",
    "    lista.append(soup.select(linkk))\n",
    "lista"
   ]
  },
  {
   "cell_type": "code",
   "execution_count": 26,
   "id": "1cc7b643-c79f-4370-bd5b-addfc133c9b5",
   "metadata": {},
   "outputs": [],
   "source": [
    "languagess = []\n",
    "for i in range(len(lista)):\n",
    "    languagess.append(lista[i][0]['lang'])"
   ]
  },
  {
   "cell_type": "code",
   "execution_count": 27,
   "id": "88669cee-f99c-4deb-bca4-2d56b38be560",
   "metadata": {},
   "outputs": [
    {
     "data": {
      "text/plain": [
       "['en', 'ja', 'ru', 'de', 'es', 'fr', 'zh', 'it', 'pt', 'pl']"
      ]
     },
     "execution_count": 27,
     "metadata": {},
     "output_type": "execute_result"
    }
   ],
   "source": [
    "languagess"
   ]
  },
  {
   "cell_type": "code",
   "execution_count": 28,
   "id": "8124b7d4-2672-4f4e-a8dd-240407f14335",
   "metadata": {},
   "outputs": [],
   "source": [
    "#js-link-box-ja > small > bdi"
   ]
  },
  {
   "cell_type": "code",
   "execution_count": 29,
   "id": "fb25ce0e-35d7-43f2-8830-0c8c7e326230",
   "metadata": {},
   "outputs": [
    {
     "data": {
      "text/plain": [
       "[[<bdi dir=\"ltr\">6 383 000+</bdi>],\n",
       " [<bdi dir=\"ltr\">1 292 000+</bdi>],\n",
       " [<bdi dir=\"ltr\">1 756 000+</bdi>],\n",
       " [<bdi dir=\"ltr\">2 617 000+</bdi>],\n",
       " [<bdi dir=\"ltr\">1 717 000+</bdi>],\n",
       " [<bdi dir=\"ltr\">2 362 000+</bdi>],\n",
       " [<bdi dir=\"ltr\">1 231 000+</bdi>],\n",
       " [<bdi dir=\"ltr\">1 718 000+</bdi>],\n",
       " [<bdi dir=\"ltr\">1 074 000+</bdi>],\n",
       " [<bdi dir=\"ltr\">1 490 000+</bdi>]]"
      ]
     },
     "execution_count": 29,
     "metadata": {},
     "output_type": "execute_result"
    }
   ],
   "source": [
    "listas = []\n",
    "for element in languagess:\n",
    "    linkk = '#js-link-box-' + element + '> small > bdi'\n",
    "    listas.append(soup.select(linkk))\n",
    "listas"
   ]
  },
  {
   "cell_type": "code",
   "execution_count": 30,
   "id": "21133a49-0dc8-4572-90ce-4002b5d35352",
   "metadata": {},
   "outputs": [
    {
     "data": {
      "text/plain": [
       "['6\\xa0383\\xa0000+',\n",
       " '1\\xa0292\\xa0000+',\n",
       " '1\\xa0756\\xa0000+',\n",
       " '2\\xa0617\\xa0000+',\n",
       " '1\\xa0717\\xa0000+',\n",
       " '2\\xa0362\\xa0000+',\n",
       " '1\\xa0231\\xa0000+',\n",
       " '1\\xa0718\\xa0000+',\n",
       " '1\\xa0074\\xa0000+',\n",
       " '1\\xa0490\\xa0000+']"
      ]
     },
     "execution_count": 30,
     "metadata": {},
     "output_type": "execute_result"
    }
   ],
   "source": [
    "#listas[0][0].get_text()\n",
    "number_of_articles = []\n",
    "for i in range(len(listas)):\n",
    "    number_of_articles.append(listas[i][0].get_text().strip())\n",
    "    i += 1\n",
    "number_of_articles"
   ]
  },
  {
   "cell_type": "code",
   "execution_count": 31,
   "id": "7cb97a1b-5316-46e3-9589-25618a2f66a0",
   "metadata": {},
   "outputs": [],
   "source": [
    "final_numbers = []\n",
    "for i in range(len(number_of_articles)):\n",
    "    pattern = '\\d+'\n",
    "    text = number_of_articles[i]\n",
    "    final_numbers.append(re.findall(pattern, text))"
   ]
  },
  {
   "cell_type": "code",
   "execution_count": 32,
   "id": "b75d7568-31ed-4883-bfbd-b8e68627b867",
   "metadata": {},
   "outputs": [],
   "source": [
    "for i in range(len(final_numbers)):\n",
    "    final_numbers[i] = ''.join(final_numbers[i])"
   ]
  },
  {
   "cell_type": "code",
   "execution_count": 33,
   "id": "7616f4fd-372f-4f86-bde0-132be2c35689",
   "metadata": {},
   "outputs": [
    {
     "data": {
      "text/plain": [
       "['6383000',\n",
       " '1292000',\n",
       " '1756000',\n",
       " '2617000',\n",
       " '1717000',\n",
       " '2362000',\n",
       " '1231000',\n",
       " '1718000',\n",
       " '1074000',\n",
       " '1490000']"
      ]
     },
     "execution_count": 33,
     "metadata": {},
     "output_type": "execute_result"
    }
   ],
   "source": [
    "final_numbers"
   ]
  },
  {
   "cell_type": "code",
   "execution_count": 34,
   "id": "51e8ab11-4fc5-4667-a836-af18a9be5fa7",
   "metadata": {},
   "outputs": [
    {
     "data": {
      "text/html": [
       "<div>\n",
       "<style scoped>\n",
       "    .dataframe tbody tr th:only-of-type {\n",
       "        vertical-align: middle;\n",
       "    }\n",
       "\n",
       "    .dataframe tbody tr th {\n",
       "        vertical-align: top;\n",
       "    }\n",
       "\n",
       "    .dataframe thead th {\n",
       "        text-align: right;\n",
       "    }\n",
       "</style>\n",
       "<table border=\"1\" class=\"dataframe\">\n",
       "  <thead>\n",
       "    <tr style=\"text-align: right;\">\n",
       "      <th></th>\n",
       "      <th>languages</th>\n",
       "      <th>number_of_articles</th>\n",
       "    </tr>\n",
       "  </thead>\n",
       "  <tbody>\n",
       "    <tr>\n",
       "      <th>0</th>\n",
       "      <td>English</td>\n",
       "      <td>6383000</td>\n",
       "    </tr>\n",
       "    <tr>\n",
       "      <th>1</th>\n",
       "      <td>日本語</td>\n",
       "      <td>1292000</td>\n",
       "    </tr>\n",
       "    <tr>\n",
       "      <th>2</th>\n",
       "      <td>Русский</td>\n",
       "      <td>1756000</td>\n",
       "    </tr>\n",
       "    <tr>\n",
       "      <th>3</th>\n",
       "      <td>Deutsch</td>\n",
       "      <td>2617000</td>\n",
       "    </tr>\n",
       "    <tr>\n",
       "      <th>4</th>\n",
       "      <td>Español</td>\n",
       "      <td>1717000</td>\n",
       "    </tr>\n",
       "    <tr>\n",
       "      <th>5</th>\n",
       "      <td>Français</td>\n",
       "      <td>2362000</td>\n",
       "    </tr>\n",
       "    <tr>\n",
       "      <th>6</th>\n",
       "      <td>中文</td>\n",
       "      <td>1231000</td>\n",
       "    </tr>\n",
       "    <tr>\n",
       "      <th>7</th>\n",
       "      <td>Italiano</td>\n",
       "      <td>1718000</td>\n",
       "    </tr>\n",
       "    <tr>\n",
       "      <th>8</th>\n",
       "      <td>Português</td>\n",
       "      <td>1074000</td>\n",
       "    </tr>\n",
       "    <tr>\n",
       "      <th>9</th>\n",
       "      <td>Polski</td>\n",
       "      <td>1490000</td>\n",
       "    </tr>\n",
       "  </tbody>\n",
       "</table>\n",
       "</div>"
      ],
      "text/plain": [
       "   languages number_of_articles\n",
       "0    English            6383000\n",
       "1        日本語            1292000\n",
       "2    Русский            1756000\n",
       "3    Deutsch            2617000\n",
       "4    Español            1717000\n",
       "5   Français            2362000\n",
       "6         中文            1231000\n",
       "7   Italiano            1718000\n",
       "8  Português            1074000\n",
       "9     Polski            1490000"
      ]
     },
     "execution_count": 34,
     "metadata": {},
     "output_type": "execute_result"
    }
   ],
   "source": [
    "languages = pd.DataFrame({'languages': languages, 'number_of_articles': final_numbers})\n",
    "languages"
   ]
  },
  {
   "cell_type": "code",
   "execution_count": null,
   "id": "2205fe70-5890-43b5-b26c-b283359997b5",
   "metadata": {},
   "outputs": [],
   "source": []
  }
 ],
 "metadata": {
  "kernelspec": {
   "display_name": "Python 3",
   "language": "python",
   "name": "python3"
  },
  "language_info": {
   "codemirror_mode": {
    "name": "ipython",
    "version": 3
   },
   "file_extension": ".py",
   "mimetype": "text/x-python",
   "name": "python",
   "nbconvert_exporter": "python",
   "pygments_lexer": "ipython3",
   "version": "3.8.8"
  }
 },
 "nbformat": 4,
 "nbformat_minor": 5
}
